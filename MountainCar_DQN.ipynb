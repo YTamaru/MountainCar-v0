{
 "cells": [
  {
   "cell_type": "markdown",
   "metadata": {},
   "source": [
    "# DQN"
   ]
  },
  {
   "cell_type": "markdown",
   "metadata": {},
   "source": [
    "# 環境生成"
   ]
  },
  {
   "cell_type": "code",
   "execution_count": 1,
   "metadata": {},
   "outputs": [],
   "source": [
    "import gym\n",
    "import random\n",
    "import numpy as np\n",
    "import torch\n",
    "from torch import nn\n",
    "from torch  import optim\n",
    "import torch.nn.functional as F\n",
    "from gym import wrappers\n",
    "import matplotlib.pyplot as plt\n",
    "env = gym.make('MountainCar-v0')"
   ]
  },
  {
   "cell_type": "code",
   "execution_count": 2,
   "metadata": {},
   "outputs": [],
   "source": [
    "import warnings\n",
    "warnings.filterwarnings(\"ignore\", category=UserWarning)"
   ]
  },
  {
   "cell_type": "markdown",
   "metadata": {},
   "source": [
    "# 環境をリセット"
   ]
  },
  {
   "cell_type": "code",
   "execution_count": 4,
   "metadata": {},
   "outputs": [
    {
     "name": "stdout",
     "output_type": "stream",
     "text": [
      "[-0.5471447  0.       ]\n"
     ]
    }
   ],
   "source": [
    "observation  = env.reset()\n",
    "print(observation)\n",
    "# 現在の位置，速度"
   ]
  },
  {
   "cell_type": "code",
   "execution_count": 5,
   "metadata": {},
   "outputs": [
    {
     "name": "stdout",
     "output_type": "stream",
     "text": [
      "[0.6  0.07]\n",
      "[-1.2  -0.07]\n"
     ]
    }
   ],
   "source": [
    "print(env.observation_space.high)\n",
    "print(env.observation_space.low)\n",
    "#観測データの最大値\n",
    "#観測データの最小値"
   ]
  },
  {
   "cell_type": "markdown",
   "metadata": {},
   "source": [
    "# エージェントを動かす\n",
    "0: 左へおす\\\n",
    "1: 何もしない\\\n",
    "2: 右へおす\n",
    "```\n",
    "action = 0~2\n",
    "env.step(action)\n",
    "```"
   ]
  },
  {
   "cell_type": "markdown",
   "metadata": {},
   "source": [
    "# DQN\n",
    "行動価値関数Qをニューラルネットワーク化して，学習\\\n",
    "R(s,a)+γmaxa′∈A(s′)Q(s′,a′)\\\n",
    "を教師データと考えてθを更新する"
   ]
  },
  {
   "cell_type": "code",
   "execution_count": 6,
   "metadata": {},
   "outputs": [],
   "source": [
    "#各ステップでの経験をnamedtupleに変換\n",
    "from collections import namedtuple\n",
    "Transition = namedtuple('Transition', ('state', 'action', 'next_state', 'reward'))"
   ]
  },
  {
   "cell_type": "code",
   "execution_count": 7,
   "metadata": {},
   "outputs": [],
   "source": [
    "# 経験を保存するメモリクラス\n",
    "#Replay Memory・・・そのステップでの経験を保存\n",
    "class ReplayMemory:\n",
    "    def __init__(self, CAPACITY):\n",
    "        self.capacity = CAPACITY #メモリの最大長\n",
    "        self.memory = []#経験\n",
    "        self.index = 0# 保存するindexを示す変数\n",
    "    \n",
    "    def push(self, state, action, state_next, reward):\n",
    "        '''transition = (state, action, state_next, reward)をメモリに保存'''\n",
    "        if len(self.memory) < self.capacity:\n",
    "            self.memory.append(None)#メモリが一杯出ない時には足す\n",
    "            self.memory[self.index] = Transition(state, action, state_next, reward)\n",
    "            self.index = (self.index + 1) % self.capacity #保存するindexを１つずらす　最大を超えないように\n",
    "            \n",
    "    def sample(self, batch_size):\n",
    "        '''batch_size分だけ，ランダムに保存内容を取り出す'''\n",
    "        return random.sample(self.memory, batch_size)\n",
    "\n",
    "    def __len__(self): #リストや辞書型利用時に使う特殊メソッド\n",
    "        '''現在のmemoryの長さを返す'''\n",
    "        return len(self.memory)"
   ]
  },
  {
   "cell_type": "code",
   "execution_count": 8,
   "metadata": {},
   "outputs": [],
   "source": [
    "GAMMA = 0.99 #時間割引率\n",
    "BATCH_SIZE = 32\n",
    "CAPACITY = 10000\n",
    "# DQNの処理\n",
    "class DQN_Brain:\n",
    "    def __init__(self, num_states, num_actions):\n",
    "        self.num_actions = num_actions #左へおす，何もしない，右へおすの3つ\n",
    "        self.num_states = num_states\n",
    "        self.memory = ReplayMemory(CAPACITY)\n",
    "        \n",
    "        #ニューラルネットワーク\n",
    "        self.model = nn.Sequential()\n",
    "        self.model.add_module('fc1', nn.Linear(num_states, 32))\n",
    "        self.model.add_module('relu1', nn.ReLU())\n",
    "        self.model.add_module('fc2', nn.Linear(32, 32))\n",
    "        self.model.add_module('relu2', nn.ReLU())\n",
    "        self.model.add_module('fc3', nn.Linear(32, num_actions))\n",
    "        print(self.model)\n",
    "        self.optimizer = optim.Adam(self.model.parameters())\n",
    "        #learning rateはsensitiveなので，とりあえずdefault1e-3\n",
    "        \n",
    "    def replay(self):\n",
    "        '''Experience Replayでネットワークのパラメータを学習'''\n",
    "        #メモリサイズの確認\n",
    "        if len(self.memory) < BATCH_SIZE:\n",
    "            return\n",
    "        \n",
    "        #ミニバッチの作成\n",
    "        transitions = self.memory.sample(BATCH_SIZE)\n",
    "        #TransitionsxBATCH_SIZE->各要素xBATCH_SIZEに分解\n",
    "        batch = Transition(*zip(*transitions))\n",
    "        #各要素ごとに結合してバッチにする\n",
    "        state_batch = torch.cat(batch.state)\n",
    "        action_batch = torch.cat(batch.action)\n",
    "        reward_batch = torch.cat(batch.reward)\n",
    "        non_final_next_states = torch.cat([s for s in batch.next_state if s is not None])\n",
    "        \n",
    "        #予測のQ(s_t,a_t)を求める\n",
    "        self.model.eval()\n",
    "        state_action_values = self.model(state_batch).gather(1, action_batch) #actionの最大の要素と同じindexのstateの要素を取り出す\n",
    "        #max(Q(s_t+1,a))の値を求める\n",
    "        non_final_mask = torch.ByteTensor(tuple(map(lambda s: s is not None, batch.next_state))) #次の状態があるかチェック\n",
    "        next_state_values = torch.zeros(BATCH_SIZE)\n",
    "        #次の状態があるindexの最大のQ値を求める\n",
    "        next_state_values[non_final_mask] = self.model(non_final_next_states).max(1)[0].detach()\n",
    "        #正解のQ(s_t,a_t)を求める\n",
    "        expected_state_action_values = reward_batch + GAMMA * next_state_values\n",
    "        \n",
    "        #パラメータの更新\n",
    "        self.model.train()\n",
    "        #lossの計算\n",
    "        loss = F.smooth_l1_loss(state_action_values, expected_state_action_values.unsqueeze(1))\n",
    "        #更新\n",
    "        self.optimizer.zero_grad()#勾配リセット\n",
    "        loss.backward()\n",
    "        self.optimizer.step()\n",
    "\n",
    "    def decide_action(self, state, episode):\n",
    "        '''現在の状態に応じて，行動を決定する'''\n",
    "        #ε-greedy法で徐々に最適行動のみを採用する\n",
    "        epsilon = 0.005 #0.5 * (1 / (episode + 1))\n",
    "        if epsilon <= np.random.uniform(0,1): #99.5%の確率で最大の行動価値の行動を選択\n",
    "            self.model.eval()\n",
    "            with torch.no_grad():\n",
    "                action = self.model(state).max(1)[1].view(1,1) #出力の最大値のindexを取り出し，1x1に変換\n",
    "        else: #0.5%の確率で行動をrandomchoice\n",
    "            #行動0,1,2をランダムに返す\n",
    "            action = torch.LongTensor([[random.randrange(self.num_actions)]])\n",
    "        return action"
   ]
  },
  {
   "cell_type": "code",
   "execution_count": 9,
   "metadata": {},
   "outputs": [],
   "source": [
    "# Agent\n",
    "class Agent:\n",
    "    def __init__(self, num_states, num_actions):\n",
    "        self.brain = DQN_Brain(num_states, num_actions)\n",
    "    \n",
    "    def update_q_function(self):\n",
    "        '''Q関数を更新する'''\n",
    "        self.brain.replay()\n",
    "    \n",
    "    def get_action(self, state, episode):\n",
    "        '''行動を決定する'''\n",
    "        action = self.brain.decide_action(state, episode)\n",
    "        return action\n",
    "    \n",
    "    def memorize(self, state, action, state_next, reward):\n",
    "        '''memoryオブジェクトにstate, action, state_next, rewardの内容を保存'''\n",
    "        self.brain.memory.push(state, action, state_next, reward)"
   ]
  },
  {
   "cell_type": "code",
   "execution_count": 10,
   "metadata": {},
   "outputs": [],
   "source": [
    "MAX_STEPS = 200 #１試行のステップ数\n",
    "NUM_EPISODES = 10000 #試行回数"
   ]
  },
  {
   "cell_type": "code",
   "execution_count": 11,
   "metadata": {},
   "outputs": [],
   "source": [
    "#Mountain Carを実行する環境のクラス\n",
    "class Environment:\n",
    "    def __init__(self):\n",
    "        self.env = gym.make('MountainCar-v0')\n",
    "        self.env = wrappers.Monitor(self.env, './gym-results/DQN', force=True) #動画保存\n",
    "        self.num_states = self.env.observation_space.shape[0]\n",
    "        self.num_actions = self.env.action_space.n\n",
    "        self.agent = Agent(self.num_states, self.num_actions)\n",
    "        self.rewards = []\n",
    "        self.best_step = MAX_STEPS-1#頂上に到達した最小のステップ数を保存\n",
    "    \n",
    "    def run(self):\n",
    "        '''実行'''\n",
    "        episode_10_list = np.zeros(10) #10試行分の成功step数を格納し，平均step数を出力に利用\n",
    "        complete_episodes = 0\n",
    "        episode_final = False # 最後の試行フラグ\n",
    "        observation = self.env.reset() #環境の初期化\n",
    "        \n",
    "        for episode in range(NUM_EPISODES):\n",
    "            observation = self.env.reset() #環境の初期化\n",
    "            state = observation\n",
    "            state = torch.from_numpy(state).type(torch.FloatTensor)\n",
    "            state = torch.unsqueeze(state, 0) #size4 ->1x4に変換\n",
    "            total_reward = 0\n",
    "            \n",
    "            for step in range(MAX_STEPS): #1episodeのループ\n",
    "                action = self.agent.get_action(state, episode)\n",
    "                # a_tの実行後のs_{t+1}とdoneフラグを求める\n",
    "                observation_next, reward, done, _ = self.env.step(action.item())\n",
    "                #infoはない, actionはTensorなので値を取り出すitem(), rewardはMountainCarではステップごとに固定で-1\n",
    "\n",
    "                #頂上に到達したら次状態はないのでNoneにし，episode終了\n",
    "                if done:\n",
    "                    state_next = None\n",
    "                    if step < self.best_step:\n",
    "                        self.best_step = step\n",
    "                        # これまでの最小ステップで頂上に到達したら，reward1.0\n",
    "                        reward = 1.0\n",
    "                    elif step < MAX_STEPS-1:\n",
    "                        # それ以外で頂上に到達した場合，reward0\n",
    "                        reward = 0.0\n",
    "# →失敗： 最小ステップ以外で頂上に到達したときの報酬を0.5とした\n",
    "#報酬のclipping:報酬を-1,0,1で固定することで，問題によらず，同じハイパーパラメータで適用可能になる\n",
    "#→改善: 最小のときのみ，報酬1.0とし，それ以外は-1とする．\n",
    "                else:\n",
    "                    state_next = torch.from_numpy(observation_next).type(torch.FloatTensor)\n",
    "                    state_next = torch.unsqueeze(state_next, 0) #size2->1x2に変換\n",
    "                \n",
    "                #報酬を与える\n",
    "                total_reward += reward\n",
    "                reward = torch.FloatTensor([reward])\n",
    "                \n",
    "                #メモリに経験を追加\n",
    "                self.agent.memorize(state, action, state_next, reward)\n",
    "                \n",
    "                #Experience ReplayでQ関数を更新\n",
    "                self.agent.update_q_function()\n",
    "                \n",
    "                #観測の更新\n",
    "                state = state_next\n",
    "                \n",
    "                if done:\n",
    "                    if episode%100 == 0:\n",
    "                        print('episide: {}, total_reward: {}'.format(episode, total_reward))\n",
    "                    self.rewards.append(total_reward)\n",
    "                    #頂上に到達したので，1episode終了\n",
    "                    break"
   ]
  },
  {
   "cell_type": "code",
   "execution_count": 12,
   "metadata": {
    "scrolled": true
   },
   "outputs": [
    {
     "name": "stdout",
     "output_type": "stream",
     "text": [
      "Sequential(\n",
      "  (fc1): Linear(in_features=2, out_features=32, bias=True)\n",
      "  (relu1): ReLU()\n",
      "  (fc2): Linear(in_features=32, out_features=32, bias=True)\n",
      "  (relu2): ReLU()\n",
      "  (fc3): Linear(in_features=32, out_features=3, bias=True)\n",
      ")\n",
      "episide: 0, total_reward: -200.0\n",
      "episide: 100, total_reward: -200.0\n",
      "episide: 200, total_reward: -200.0\n",
      "episide: 300, total_reward: -200.0\n",
      "episide: 400, total_reward: -177.0\n",
      "episide: 500, total_reward: -200.0\n",
      "episide: 600, total_reward: -200.0\n",
      "episide: 700, total_reward: -200.0\n",
      "episide: 800, total_reward: -200.0\n",
      "episide: 900, total_reward: -200.0\n",
      "episide: 1000, total_reward: -167.0\n",
      "episide: 1100, total_reward: -200.0\n",
      "episide: 1200, total_reward: -200.0\n",
      "episide: 1300, total_reward: -200.0\n",
      "episide: 1400, total_reward: -200.0\n",
      "episide: 1500, total_reward: -196.0\n",
      "episide: 1600, total_reward: -200.0\n",
      "episide: 1700, total_reward: -200.0\n",
      "episide: 1800, total_reward: -120.0\n",
      "episide: 1900, total_reward: -200.0\n",
      "episide: 2000, total_reward: -200.0\n",
      "episide: 2100, total_reward: -153.0\n",
      "episide: 2200, total_reward: -200.0\n",
      "episide: 2300, total_reward: -200.0\n",
      "episide: 2400, total_reward: -171.0\n",
      "episide: 2500, total_reward: -200.0\n",
      "episide: 2600, total_reward: -161.0\n",
      "episide: 2700, total_reward: -175.0\n",
      "episide: 2800, total_reward: -169.0\n",
      "episide: 2900, total_reward: -200.0\n",
      "episide: 3000, total_reward: -116.0\n",
      "episide: 3100, total_reward: -200.0\n",
      "episide: 3200, total_reward: -200.0\n",
      "episide: 3300, total_reward: -200.0\n",
      "episide: 3400, total_reward: -200.0\n",
      "episide: 3500, total_reward: -200.0\n",
      "episide: 3600, total_reward: -200.0\n",
      "episide: 3700, total_reward: -200.0\n",
      "episide: 3800, total_reward: -186.0\n",
      "episide: 3900, total_reward: -200.0\n",
      "episide: 4000, total_reward: -193.0\n",
      "episide: 4100, total_reward: -200.0\n",
      "episide: 4200, total_reward: -200.0\n",
      "episide: 4300, total_reward: -200.0\n",
      "episide: 4400, total_reward: -200.0\n",
      "episide: 4500, total_reward: -118.0\n",
      "episide: 4600, total_reward: -166.0\n",
      "episide: 4700, total_reward: -161.0\n",
      "episide: 4800, total_reward: -155.0\n",
      "episide: 4900, total_reward: -142.0\n",
      "episide: 5000, total_reward: -200.0\n",
      "episide: 5100, total_reward: -152.0\n",
      "episide: 5200, total_reward: -140.0\n",
      "episide: 5300, total_reward: -153.0\n",
      "episide: 5400, total_reward: -113.0\n",
      "episide: 5500, total_reward: -97.0\n",
      "episide: 5600, total_reward: -118.0\n",
      "episide: 5700, total_reward: -127.0\n",
      "episide: 5800, total_reward: -200.0\n",
      "episide: 5900, total_reward: -187.0\n",
      "episide: 6000, total_reward: -189.0\n",
      "episide: 6100, total_reward: -136.0\n",
      "episide: 6200, total_reward: -143.0\n",
      "episide: 6300, total_reward: -116.0\n",
      "episide: 6400, total_reward: -200.0\n",
      "episide: 6500, total_reward: -113.0\n",
      "episide: 6600, total_reward: -200.0\n",
      "episide: 6700, total_reward: -200.0\n",
      "episide: 6800, total_reward: -200.0\n",
      "episide: 6900, total_reward: -200.0\n",
      "episide: 7000, total_reward: -110.0\n",
      "episide: 7100, total_reward: -200.0\n",
      "episide: 7200, total_reward: -140.0\n",
      "episide: 7300, total_reward: -200.0\n",
      "episide: 7400, total_reward: -119.0\n",
      "episide: 7500, total_reward: -200.0\n",
      "episide: 7600, total_reward: -177.0\n",
      "episide: 7700, total_reward: -200.0\n",
      "episide: 7800, total_reward: -178.0\n",
      "episide: 7900, total_reward: -200.0\n",
      "episide: 8000, total_reward: -106.0\n",
      "episide: 8100, total_reward: -112.0\n",
      "episide: 8200, total_reward: -168.0\n",
      "episide: 8300, total_reward: -200.0\n",
      "episide: 8400, total_reward: -200.0\n",
      "episide: 8500, total_reward: -85.0\n",
      "episide: 8600, total_reward: -200.0\n",
      "episide: 8700, total_reward: -137.0\n",
      "episide: 8800, total_reward: -154.0\n",
      "episide: 8900, total_reward: -120.0\n",
      "episide: 9000, total_reward: -200.0\n",
      "episide: 9100, total_reward: -117.0\n",
      "episide: 9200, total_reward: -123.0\n",
      "episide: 9300, total_reward: -200.0\n",
      "episide: 9400, total_reward: -200.0\n",
      "episide: 9500, total_reward: -200.0\n",
      "episide: 9600, total_reward: -183.0\n",
      "episide: 9700, total_reward: -178.0\n",
      "episide: 9800, total_reward: -200.0\n",
      "episide: 9900, total_reward: -200.0\n"
     ]
    }
   ],
   "source": [
    "mountaincar_env = Environment()\n",
    "mountaincar_env.run()"
   ]
  },
  {
   "cell_type": "code",
   "execution_count": 15,
   "metadata": {
    "scrolled": true
   },
   "outputs": [
    {
     "data": {
      "image/png": "[encoded data removed]",
      "text/plain": [
       "<Figure size 720x432 with 1 Axes>"
      ]
     },
     "metadata": {
      "needs_background": "light"
     },
     "output_type": "display_data"
    }
   ],
   "source": [
    "plt.figure(figsize=(10,6))\n",
    "plt.title('DQN: Reward Transition')\n",
    "x = list(range(0, NUM_EPISODES))\n",
    "plt.plot(x, mountaincar_env.rewards)\n",
    "plt.ylabel('total_rewards')\n",
    "plt.xlabel('episodes')\n",
    "plt.grid()\n",
    "plt.savefig('./fig/DQN/DQN_RT.png')\n",
    "plt.show()"
   ]
  },
  {
   "cell_type": "code",
   "execution_count": null,
   "metadata": {},
   "outputs": [],
   "source": []
  }
 ],
 "metadata": {
  "kernelspec": {
   "display_name": "Python 3",
   "language": "python",
   "name": "python3"
  },
  "language_info": {
   "codemirror_mode": {
    "name": "ipython",
    "version": 3
   },
   "file_extension": ".py",
   "mimetype": "text/x-python",
   "name": "python",
   "nbconvert_exporter": "python",
   "pygments_lexer": "ipython3",
   "version": "3.8.2"
  }
 },
 "nbformat": 4,
 "nbformat_minor": 4
}